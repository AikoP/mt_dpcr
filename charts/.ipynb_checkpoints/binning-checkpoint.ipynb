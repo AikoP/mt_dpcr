{
 "cells": [
  {
   "cell_type": "code",
   "execution_count": 6,
   "metadata": {},
   "outputs": [
    {
     "name": "stdout",
     "output_type": "stream",
     "text": [
      "Using GPU : 0 from 1 devices\n"
     ]
    }
   ],
   "source": [
    "import sys\n",
    "sys.path.insert(1, '../')  # to load from any submodule in the repo\n",
    "\n",
    "import utils.dpcr_utils as utils\n",
    "from utils.dpcr_generator import getPaths\n",
    "\n",
    "import numpy as np\n",
    "import scipy as sp\n",
    "import scipy.stats\n",
    "import scipy.optimize\n",
    "import scipy.misc\n",
    "import matplotlib\n",
    "import matplotlib.pyplot as plt\n",
    "import scipy.spatial\n",
    "import time\n",
    "import itertools\n",
    "import torch\n",
    "\n",
    "device = torch.device(\"cuda\")\n",
    "\n",
    "print('Using GPU : ' + str(torch.cuda.current_device()) + ' from ' + str(torch.cuda.device_count()) + ' devices')\n",
    "\n",
    "from matplotlib import rcParams\n",
    "rcParams['font.family'] = 'Century Schoolbook'\n",
    "rcParams['font.cursive'] = 'Century Schoolbook'\n",
    "rcParams['font.size'] = '19'\n",
    "\n",
    "rcParams['text.usetex'] = True \n",
    "rcParams['text.latex.preamble'] = [r'\\usepackage{fouriernc}']\n",
    "\n",
    "colors = ['steelblue', 'darksalmon', 'cadetblue', 'slateblue']"
   ]
  },
  {
   "cell_type": "code",
   "execution_count": 2,
   "metadata": {},
   "outputs": [
    {
     "name": "stdout",
     "output_type": "stream",
     "text": [
      "Total Time:  1.3675048351287842\n"
     ]
    }
   ],
   "source": [
    "dataset = 'multi_faces'\n",
    "\n",
    "start = time.time()\n",
    "\n",
    "data = None\n",
    "with open('../' + getPaths()[dataset]['base'] + '/' + dataset + '_train_data', 'rb') as file:\n",
    "    data = torch.load(file)\n",
    "    \n",
    "print (\"Total Time: \", time.time() - start)"
   ]
  },
  {
   "cell_type": "code",
   "execution_count": 3,
   "metadata": {},
   "outputs": [
    {
     "name": "stdout",
     "output_type": "stream",
     "text": [
      "Bins: 50\n"
     ]
    }
   ],
   "source": [
    "print (\"Bins:\", len(data[\"train_bins\"]))"
   ]
  },
  {
   "cell_type": "code",
   "execution_count": 26,
   "metadata": {},
   "outputs": [
    {
     "data": {
      "image/png": "[encoded data removed]",
      "text/plain": [
       "<Figure size 1152x648 with 1 Axes>"
      ]
     },
     "metadata": {
      "needs_background": "light"
     },
     "output_type": "display_data"
    }
   ],
   "source": [
    "plt.figure(figsize=(16,9))\n",
    "\n",
    "ax = plt.axes()\n",
    "\n",
    "plt.setp(ax.spines.values(), color=3 * [0.5])\n",
    "ax.set_facecolor(3 * [0.99])\n",
    "ax.tick_params(axis='x', colors=3 * [0.3])\n",
    "ax.tick_params(axis='y', colors=3 * [0.3])\n",
    "\n",
    "ax.set_xlim(2500,7500)\n",
    "ax.set_xlabel(r'Number of Vertices per Sample', labelpad=20)\n",
    "\n",
    "for bin in data[\"train_bins\"]:\n",
    "    ax.axvline(x=bin.size(1), color='black', alpha=0.4, zorder=1)\n",
    "    \n",
    "ax.hist(data[\"sample_stats\"][\"sample_sizes\"], bins=25, rwidth=0.9, label='\\#samples', zorder=2)\n",
    "ax.axvline(x=-1, label='bin boundaries', color='black', alpha=0.4)\n",
    "\n",
    "ax.set_axisbelow(True)\n",
    "ax.grid(color=3 * [0.88])\n",
    "ax.legend()\n",
    "\n",
    "plt.savefig('binning.pdf')"
   ]
  },
  {
   "cell_type": "code",
   "execution_count": null,
   "metadata": {},
   "outputs": [],
   "source": []
  }
 ],
 "metadata": {
  "kernelspec": {
   "display_name": "Python 3.6.2 64-bit",
   "language": "python",
   "name": "python36264bit0676f2f61ede4885a79bdf760204de6d"
  },
  "language_info": {
   "codemirror_mode": {
    "name": "ipython",
    "version": 3
   },
   "file_extension": ".py",
   "mimetype": "text/x-python",
   "name": "python",
   "nbconvert_exporter": "python",
   "pygments_lexer": "ipython3",
   "version": "3.6.2"
  }
 },
 "nbformat": 4,
 "nbformat_minor": 2
}
