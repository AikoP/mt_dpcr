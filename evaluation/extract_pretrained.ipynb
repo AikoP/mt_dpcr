{
 "cells": [
  {
   "cell_type": "code",
   "execution_count": 1,
   "metadata": {},
   "outputs": [
    {
     "name": "stdout",
     "output_type": "stream",
     "text": [
      "Using 1 CUDA devices (GeForce GTX 1070)\n",
      "Device: cuda\n",
      "Using Seed: 34897567\n"
     ]
    }
   ],
   "source": [
    "import sys\n",
    "sys.path.insert(1, '../')  # to load from any submodule in the repo\n",
    "\n",
    "from utils import reader\n",
    "from utils import dpcrUtils as utils\n",
    "from utils import generator\n",
    "from utils import reconstructor\n",
    "from models import models\n",
    "\n",
    "from training import train_detector\n",
    "from training import train_predictor\n",
    "\n",
    "import torch\n",
    "import torch.nn\n",
    "\n",
    "import numpy as np\n",
    "import scipy as sp\n",
    "import matplotlib\n",
    "import matplotlib.pyplot as plt\n",
    "import time\n",
    "from mpl_toolkits.mplot3d import Axes3D\n",
    "import itertools\n",
    "import _pickle as cPickle\n",
    "from torchviz import make_dot\n",
    "\n",
    "device = utils.getDevice()\n",
    "print (\"Device:\", device)\n",
    "    \n",
    "torch.no_grad()\n",
    "\n",
    "seed_file = open('../utils/seed.txt', \"r\")\n",
    "seed = int(seed_file.read())\n",
    "seed_file.close()\n",
    "\n",
    "print (\"Using Seed:\", seed)\n",
    "    \n",
    "torch.manual_seed(seed)\n",
    "np.random.seed(seed)"
   ]
  },
  {
   "cell_type": "code",
   "execution_count": 2,
   "metadata": {},
   "outputs": [
    {
     "name": "stdout",
     "output_type": "stream",
     "text": [
      "Load complete!\n"
     ]
    }
   ],
   "source": [
    "validation_set = {\n",
    "    'multi_simple_shapes':{\n",
    "        'predictor':models.loadModel('../hpc/results/predictor_multi_simple_shapes_cnet_mish_radam_sd/2020-12-19_062318/predictor_checkpoints.t7', device=torch.device('cpu')),\n",
    "        'detector':models.loadModel('../hpc/results/detector_multi_simple_shapes_cnet_mish_radam_sd/2020-12-15_224339/detector_checkpoints.t7', device=torch.device('cpu'))\n",
    "    },\n",
    "    'multi_faces' :{\n",
    "        'predictor':models.loadModel('../hpc/results/predictor_multi_faces_cnet_mish_radam_sd/2020-12-15_224134/predictor_checkpoints.t7', device=torch.device('cpu')),\n",
    "        'detector':models.loadModel('../hpc/results/detector_multi_faces_cnet_mish_radam_sd/2020-12-09_074025/detector_checkpoints.t7', device=torch.device('cpu'))\n",
    "    },\n",
    "    'single_armadillo' :{\n",
    "        'predictor':models.loadModel('../hpc/results/predictor_single_armadillo_cnet_mish_radam_sd/2020-12-15_224123/predictor_checkpoints.t7', device=torch.device('cpu')),\n",
    "        'detector':models.loadModel('../hpc/results/detector_single_armadillo_cnet_mish_radam_sd/2020-12-15_224123/detector_checkpoints.t7', device=torch.device('cpu'))\n",
    "    },\n",
    "    'single_bunny' :{\n",
    "        'predictor':models.loadModel('../hpc/results/predictor_single_bunny_cnet_mish_radam/2020-12-31_171657/predictor_checkpoints.t7', device=torch.device('cpu')),\n",
    "        'detector':models.loadModel('../hpc/results/detector_single_bunny_cnet_mish_radam_sd/2020-12-08_110946/detector_checkpoints.t7', device=torch.device('cpu'))\n",
    "    },\n",
    "    'multi_cuboids' :{\n",
    "        'predictor':models.loadModel('../hpc/results/predictor_multi_cuboids_cnet_mish_radam_sd/2020-12-19_062203/predictor_checkpoints.t7', device=torch.device('cpu')),\n",
    "        'detector':models.loadModel('../hpc/results/detector_multi_cuboids_cnet_mish_radam_sd/2020-12-15_224131/detector_checkpoints.t7', device=torch.device('cpu'))\n",
    "    },\n",
    "    'multi_ellipsoids' :{\n",
    "        'predictor':models.loadModel('../hpc/results/predictor_multi_ellipsoids_cnet_mish_radam_sd/2020-12-19_062200/predictor_checkpoints.t7', device=torch.device('cpu')),\n",
    "        'detector':models.loadModel('../hpc/results/detector_multi_ellipsoids_cnet_mish_radam_sd/2020-12-15_224150/detector_checkpoints.t7', device=torch.device('cpu'))\n",
    "    },\n",
    "    'multi_polyhedrons' :{\n",
    "        'predictor':models.loadModel('../hpc/results/predictor_multi_cuboids_cnet_mish_radam_sd/2020-12-19_062203/predictor_checkpoints.t7', device=torch.device('cpu')),\n",
    "        'detector':models.loadModel('../hpc/results/detector_multi_polyhedrons_cnet_mish_radam_sd/2020-12-15_224129/detector_checkpoints.t7', device=torch.device('cpu'))\n",
    "    }\n",
    "\n",
    "}\n",
    "\n",
    "torch.cuda.empty_cache()\n",
    "\n",
    "print (\"Load complete!\")"
   ]
  },
  {
   "cell_type": "code",
   "execution_count": 6,
   "metadata": {},
   "outputs": [],
   "source": [
    "output_dir = '../models/pretrained/'\n",
    "\n",
    "for dataset in validation_set:\n",
    "    \n",
    "    predictor = validation_set[dataset]['predictor']\n",
    "    detector = validation_set[dataset]['detector']\n",
    "    \n",
    "    torch.save(predictor.state_dict(), output_dir + dataset + '_predictor_state_dict.t7')\n",
    "    torch.save(detector.state_dict(), output_dir + dataset + '_detector_state_dict.t7')\n",
    "  "
   ]
  },
  {
   "cell_type": "code",
   "execution_count": null,
   "metadata": {},
   "outputs": [],
   "source": []
  }
 ],
 "metadata": {
  "kernelspec": {
   "display_name": "Python 3.6.2 64-bit",
   "language": "python",
   "name": "python36264bit0676f2f61ede4885a79bdf760204de6d"
  },
  "language_info": {
   "codemirror_mode": {
    "name": "ipython",
    "version": 3
   },
   "file_extension": ".py",
   "mimetype": "text/x-python",
   "name": "python",
   "nbconvert_exporter": "python",
   "pygments_lexer": "ipython3",
   "version": "3.6.2"
  }
 },
 "nbformat": 4,
 "nbformat_minor": 2
}
