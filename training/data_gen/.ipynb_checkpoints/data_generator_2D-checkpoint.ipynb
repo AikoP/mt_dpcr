{
 "cells": [
  {
   "cell_type": "markdown",
   "metadata": {},
   "source": [
    "### Imports & Preparation"
   ]
  },
  {
   "cell_type": "code",
   "execution_count": 1,
   "metadata": {},
   "outputs": [
    {
     "name": "stdout",
     "output_type": "stream",
     "text": [
      "Using Seed: 34897567\n"
     ]
    }
   ],
   "source": [
    "import sys\n",
    "sys.path.insert(1, '../../')  # to load from any submodule in the repo\n",
    "\n",
    "from utils import dpcr_generator\n",
    "\n",
    "import numpy as np\n",
    "import scipy as sp\n",
    "import matplotlib\n",
    "import matplotlib.pyplot as plt\n",
    "import time\n",
    "\n",
    "seed_file = open('../../utils/seed.txt', \"r\")\n",
    "seed = int(seed_file.read())\n",
    "seed_file.close()\n",
    "\n",
    "print (\"Using Seed:\", seed)\n",
    "\n",
    "np.random.seed(seed)"
   ]
  },
  {
   "cell_type": "code",
   "execution_count": 2,
   "metadata": {},
   "outputs": [],
   "source": [
    "TRAIN_SET_SIZE = 1000\n",
    "TEST_SET_SIZE = int(0.1 * TRAIN_SET_SIZE)\n",
    "\n",
    "OUTPUT_DIRECTORY = '../../data/train_test_data'\n",
    "TRAIN_DATA_NAME = 'train_data_2D'\n",
    "TEST_DATA_NAME = 'test_data_2D'"
   ]
  },
  {
   "cell_type": "markdown",
   "metadata": {},
   "source": [
    "## Generate"
   ]
  },
  {
   "cell_type": "code",
   "execution_count": 3,
   "metadata": {},
   "outputs": [
    {
     "name": "stdout",
     "output_type": "stream",
     "text": [
      "Total Time:  0.39487361907958984\n"
     ]
    }
   ],
   "source": [
    "start = time.time()\n",
    "\n",
    "trainArr = dpcr_generator.getTrainingArray(TRAIN_SET_SIZE, resolution = 50, max_iter = 5, gamma = 1.2)\n",
    "\n",
    "print (\"Total Time: \", time.time() - start)"
   ]
  },
  {
   "cell_type": "code",
   "execution_count": 4,
   "metadata": {},
   "outputs": [
    {
     "name": "stdout",
     "output_type": "stream",
     "text": [
      "Total Time:  0.042986392974853516\n"
     ]
    }
   ],
   "source": [
    "start = time.time()\n",
    "\n",
    "testArr = dpcr_generator.getTrainingArray(TEST_SET_SIZE, resolution = 50, max_iter = 5, gamma = 1.2)\n",
    "\n",
    "print (\"Total Time: \", time.time() - start)"
   ]
  },
  {
   "cell_type": "code",
   "execution_count": 5,
   "metadata": {},
   "outputs": [],
   "source": [
    "np.savez(OUTPUT_DIRECTORY + '/' + TRAIN_DATA_NAME, *trainArr)\n",
    "np.savez(OUTPUT_DIRECTORY + '/' + TEST_DATA_NAME, *testArr)"
   ]
  },
  {
   "cell_type": "markdown",
   "metadata": {},
   "source": [
    "## Load & Test Train Data"
   ]
  },
  {
   "cell_type": "code",
   "execution_count": 6,
   "metadata": {},
   "outputs": [
    {
     "name": "stdout",
     "output_type": "stream",
     "text": [
      "Total Time:  0.2739124298095703\n"
     ]
    }
   ],
   "source": [
    "start = time.time()\n",
    "\n",
    "npzfile = np.load(OUTPUT_DIRECTORY + '/' + TRAIN_DATA_NAME + '.npz')\n",
    "train_list = [npzfile[key] for key in npzfile.files]\n",
    "\n",
    "print (\"Total Time: \", time.time() - start)"
   ]
  },
  {
   "cell_type": "code",
   "execution_count": 7,
   "metadata": {},
   "outputs": [
    {
     "data": {
      "text/plain": [
       "<matplotlib.collections.PathCollection at 0x20297d93fd0>"
      ]
     },
     "execution_count": 7,
     "metadata": {},
     "output_type": "execute_result"
    },
    {
     "data": {
      "image/png": "[encoded data removed]",
      "text/plain": [
       "<Figure size 432x288 with 1 Axes>"
      ]
     },
     "metadata": {
      "needs_background": "light"
     },
     "output_type": "display_data"
    }
   ],
   "source": [
    "entry = train_list[np.random.randint(0, len(train_list))]\n",
    "\n",
    "points = entry[:,0:2]\n",
    "nearest_hidden = entry[:,2:4]\n",
    "edge_mask = entry[:,4].astype(bool)\n",
    "\n",
    "plt.axis('equal')\n",
    "\n",
    "plt.scatter(\n",
    "    points[:,0],\n",
    "    points[:,1])\n",
    "\n",
    "plt.quiver(\n",
    "    points[edge_mask,0],\n",
    "    points[edge_mask,1],\n",
    "    nearest_hidden[edge_mask,0],\n",
    "    nearest_hidden[edge_mask,1],\n",
    "    color='black',\n",
    "    headwidth = 1)\n",
    "\n",
    "plt.scatter(\n",
    "    points[edge_mask,0],\n",
    "    points[edge_mask,1],\n",
    "    color='orange')"
   ]
  },
  {
   "cell_type": "code",
   "execution_count": null,
   "metadata": {},
   "outputs": [],
   "source": []
  }
 ],
 "metadata": {
  "kernelspec": {
   "display_name": "Python 3",
   "language": "python",
   "name": "python3"
  },
  "language_info": {
   "codemirror_mode": {
    "name": "ipython",
    "version": 3
   },
   "file_extension": ".py",
   "mimetype": "text/x-python",
   "name": "python",
   "nbconvert_exporter": "python",
   "pygments_lexer": "ipython3",
   "version": "3.6.2"
  }
 },
 "nbformat": 4,
 "nbformat_minor": 2
}
