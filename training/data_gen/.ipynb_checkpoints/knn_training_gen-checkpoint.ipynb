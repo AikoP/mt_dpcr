{
 "cells": [
  {
   "cell_type": "code",
   "execution_count": 1,
   "metadata": {},
   "outputs": [
    {
     "name": "stdout",
     "output_type": "stream",
     "text": [
      "Using GPU : 0 from 1 devices\n",
      "Using Seed: 34897567\n"
     ]
    }
   ],
   "source": [
    "import sys\n",
    "sys.path.insert(1, '../../')  # to load from any submodule in the repo\n",
    "\n",
    "import utils.dpcr_utils as utils\n",
    "from utils.dpcr_generator import getTrainingArrayFromModelThreaded\n",
    "from utils.dpcr_generator import getTrainingArrayIDsFromModelThreaded\n",
    "\n",
    "import numpy as np\n",
    "import scipy as sp\n",
    "import scipy.optimize\n",
    "import scipy.misc\n",
    "import matplotlib\n",
    "import matplotlib.pyplot as plt\n",
    "import scipy.spatial\n",
    "import time\n",
    "import itertools\n",
    "import torch\n",
    "import os\n",
    "\n",
    "import _pickle as cPickle\n",
    "\n",
    "device = torch.device(\"cuda\")\n",
    "\n",
    "print('Using GPU : ' + str(torch.cuda.current_device()) + ' from ' + str(torch.cuda.device_count()) + ' devices')\n",
    "\n",
    "seed_file = open('../../utils/seed.txt', \"r\")\n",
    "seed = int(seed_file.read())\n",
    "seed_file.close()\n",
    "\n",
    "print (\"Using Seed:\", seed)\n",
    "\n",
    "np.random.seed(seed)"
   ]
  },
  {
   "cell_type": "code",
   "execution_count": 2,
   "metadata": {},
   "outputs": [],
   "source": [
    "TRAIN_SET_SIZE = 10000\n",
    "TEST_SET_SIZE = int(0.1 * TRAIN_SET_SIZE)\n",
    "\n",
    "OUTPUT_DIRECTORY = '../../data/train_test_data'\n",
    "TRAIN_DATA_NAME = 'trn_data_3D'"
   ]
  },
  {
   "cell_type": "markdown",
   "metadata": {},
   "source": [
    "## Generate"
   ]
  },
  {
   "cell_type": "code",
   "execution_count": 13,
   "metadata": {},
   "outputs": [
    {
     "name": "stdout",
     "output_type": "stream",
     "text": [
      "(5550, 3)\n",
      "[-25.9368     -19.84079933  -0.0311839 ]\n",
      "[25.92709923 19.82229996 49.96879959]\n"
     ]
    }
   ],
   "source": [
    "model_file = open('../../data/models/bunny_5K.obj', 'r') \n",
    "Lines = model_file.readlines() \n",
    "model_file.close()\n",
    "  \n",
    "model = []\n",
    "\n",
    "for line in Lines: \n",
    "    \n",
    "    ln_arr = line.strip().split(\" \")\n",
    "    if len(ln_arr) == 4 and ln_arr[0] == 'v':\n",
    "        model.append(ln_arr[1:])\n",
    "        \n",
    "model = np.array(model).astype(float)\n",
    "\n",
    "print (model.shape)\n",
    "\n",
    "print (np.min(model, axis=0))\n",
    "print (np.max(model, axis=0))"
   ]
  },
  {
   "cell_type": "code",
   "execution_count": 4,
   "metadata": {},
   "outputs": [],
   "source": [
    "pts_tensor = torch.from_numpy(model)\n",
    "\n",
    "trn_data = {\n",
    "    \"pts\": pts_tensor,\n",
    "    \"neighbor_ids\": utils.knn(pts_tensor, 6)\n",
    "}"
   ]
  },
  {
   "cell_type": "code",
   "execution_count": 5,
   "metadata": {},
   "outputs": [
    {
     "name": "stdout",
     "output_type": "stream",
     "text": [
      "Total Time: 285.64337182044983\n"
     ]
    }
   ],
   "source": [
    "start = time.time()\n",
    "\n",
    "trn_data[\"trn_ids\"] = getTrainingArrayIDsFromModelThreaded(model, TRAIN_SET_SIZE, 20, gamma = 1.1)\n",
    "\n",
    "print (\"Total Time:\", time.time() - start)"
   ]
  },
  {
   "cell_type": "code",
   "execution_count": 6,
   "metadata": {},
   "outputs": [
    {
     "name": "stdout",
     "output_type": "stream",
     "text": [
      "Total Time: 29.260571002960205\n"
     ]
    }
   ],
   "source": [
    "start = time.time()\n",
    "\n",
    "trn_data[\"tst_ids\"] = getTrainingArrayIDsFromModelThreaded(model, TEST_SET_SIZE, 20, gamma = 1.1)\n",
    "\n",
    "print (\"Total Time:\", time.time() - start)"
   ]
  },
  {
   "cell_type": "code",
   "execution_count": 7,
   "metadata": {},
   "outputs": [],
   "source": [
    "if not os.path.exists(OUTPUT_DIRECTORY):\n",
    "    os.makedirs(OUTPUT_DIRECTORY)\n",
    "\n",
    "with open(OUTPUT_DIRECTORY + '/' + TRAIN_DATA_NAME, 'wb') as file:\n",
    "    cPickle.dump(trn_data, file)"
   ]
  },
  {
   "cell_type": "markdown",
   "metadata": {},
   "source": [
    "## Load & Test Train Data"
   ]
  },
  {
   "cell_type": "code",
   "execution_count": 8,
   "metadata": {},
   "outputs": [
    {
     "name": "stdout",
     "output_type": "stream",
     "text": [
      "Total Time:  2.207458734512329\n"
     ]
    }
   ],
   "source": [
    "start = time.time()\n",
    "\n",
    "train_data = None\n",
    "with open(OUTPUT_DIRECTORY + '/' + TRAIN_DATA_NAME, 'rb') as file:\n",
    "    train_data = cPickle.load(file)\n",
    "    \n",
    "print (\"Total Time: \", time.time() - start)"
   ]
  },
  {
   "cell_type": "code",
   "execution_count": 9,
   "metadata": {},
   "outputs": [
    {
     "data": {
      "text/plain": [
       "10000"
      ]
     },
     "execution_count": 9,
     "metadata": {},
     "output_type": "execute_result"
    }
   ],
   "source": [
    "len(train_data[\"trn_ids\"])"
   ]
  },
  {
   "cell_type": "code",
   "execution_count": 10,
   "metadata": {},
   "outputs": [
    {
     "data": {
      "text/plain": [
       "1000"
      ]
     },
     "execution_count": 10,
     "metadata": {},
     "output_type": "execute_result"
    }
   ],
   "source": [
    "len(train_data[\"tst_ids\"])"
   ]
  },
  {
   "cell_type": "code",
   "execution_count": 11,
   "metadata": {},
   "outputs": [
    {
     "data": {
      "text/plain": [
       "tensor([[5275, 5272,    5, 5279,    1, 5273],\n",
       "        [5263, 5279, 5272,    6, 5271,    0],\n",
       "        [   4,    8, 5260,    6,    7,    3],\n",
       "        ...,\n",
       "        [5426, 5488, 2404, 2405, 5501, 2406],\n",
       "        [5432, 2212, 5504, 2446, 2447, 2214],\n",
       "        [2244, 5472, 2392, 2393, 2246, 2477]])"
      ]
     },
     "execution_count": 11,
     "metadata": {},
     "output_type": "execute_result"
    }
   ],
   "source": [
    "train_data[\"neighbor_ids\"]"
   ]
  }
 ],
 "metadata": {
  "kernelspec": {
   "display_name": "Python 3.6.2 64-bit",
   "language": "python",
   "name": "python36264bit0676f2f61ede4885a79bdf760204de6d"
  },
  "language_info": {
   "codemirror_mode": {
    "name": "ipython",
    "version": 3
   },
   "file_extension": ".py",
   "mimetype": "text/x-python",
   "name": "python",
   "nbconvert_exporter": "python",
   "pygments_lexer": "ipython3",
   "version": "3.6.2"
  }
 },
 "nbformat": 4,
 "nbformat_minor": 2
}
