{
 "cells": [
  {
   "cell_type": "code",
   "execution_count": 3,
   "metadata": {},
   "outputs": [
    {
     "name": "stdout",
     "output_type": "stream",
     "text": [
      "Using GPU : 0 from 1 devices\n"
     ]
    }
   ],
   "source": [
    "import sys\n",
    "sys.path.insert(1, '../')  # to load from any submodule in the repo\n",
    "\n",
    "import utils.dpcr_utils as utils\n",
    "\n",
    "import numpy as np\n",
    "import scipy as sp\n",
    "import scipy.optimize\n",
    "import scipy.misc\n",
    "import matplotlib\n",
    "import matplotlib.pyplot as plt\n",
    "import scipy.spatial\n",
    "import time\n",
    "import itertools\n",
    "import torch\n",
    "\n",
    "device = torch.device(\"cuda\")\n",
    "\n",
    "print('Using GPU : ' + str(torch.cuda.current_device()) + ' from ' + str(torch.cuda.device_count()) + ' devices')"
   ]
  },
  {
   "cell_type": "code",
   "execution_count": 82,
   "metadata": {},
   "outputs": [],
   "source": [
    "def hungarian(C):\n",
    "    \n",
    "    n = C.size(0)\n",
    "    \n",
    "    m = torch.reshape(torch.min(C, 1)[0], (-1,1))\n",
    "    C -= m\n",
    "    \n",
    "    m = torch.min(C, 0)[0]\n",
    "    C -= m\n",
    "    \n",
    "    I, J = torch.zeros(n), torch.zeros(n)\n",
    "    A = -torch.ones(n)\n",
    "    \n",
    "    k = 0\n",
    "    while (I.sum() + J.sum() < n and k < n):\n",
    "        \n",
    "        #print (\"A:\\n\",(A < 0))\n",
    "        \n",
    "        print (\"C == 0:\\n\",C == 0)\n",
    "        print (\"A < 0:\\n\",A < 0)\n",
    "        print (\"res:\\n\",(C == 0) * (A < 0))\n",
    "        \n",
    "        z = (torch.sum((C == 0) * (A < 0), dim = 1) > 0)\n",
    "        \n",
    "        print (\"z:\\n\", z)\n",
    "        \n",
    "        \n",
    "        A[k] = 1\n",
    "\n",
    "        k+= 1\n",
    "        \n",
    "        \n",
    "        \n",
    "    \n",
    "    \n",
    "    print (\"C:\\n\", C)"
   ]
  },
  {
   "cell_type": "code",
   "execution_count": 83,
   "metadata": {},
   "outputs": [
    {
     "name": "stdout",
     "output_type": "stream",
     "text": [
      "C == 0:\n",
      " tensor([[0, 1, 0, 1, 0],\n",
      "        [1, 1, 0, 0, 0],\n",
      "        [0, 0, 0, 0, 1],\n",
      "        [0, 1, 1, 0, 0],\n",
      "        [0, 0, 0, 0, 1]], dtype=torch.uint8)\n",
      "A < 0:\n",
      " tensor([1, 1, 1, 1, 1], dtype=torch.uint8)\n",
      "res:\n",
      " tensor([[0, 1, 0, 1, 0],\n",
      "        [1, 1, 0, 0, 0],\n",
      "        [0, 0, 0, 0, 1],\n",
      "        [0, 1, 1, 0, 0],\n",
      "        [0, 0, 0, 0, 1]], dtype=torch.uint8)\n",
      "z:\n",
      " tensor([1, 1, 1, 1, 1], dtype=torch.uint8)\n",
      "C == 0:\n",
      " tensor([[0, 1, 0, 1, 0],\n",
      "        [1, 1, 0, 0, 0],\n",
      "        [0, 0, 0, 0, 1],\n",
      "        [0, 1, 1, 0, 0],\n",
      "        [0, 0, 0, 0, 1]], dtype=torch.uint8)\n",
      "A < 0:\n",
      " tensor([0, 1, 1, 1, 1], dtype=torch.uint8)\n",
      "res:\n",
      " tensor([[0, 1, 0, 1, 0],\n",
      "        [0, 1, 0, 0, 0],\n",
      "        [0, 0, 0, 0, 1],\n",
      "        [0, 1, 1, 0, 0],\n",
      "        [0, 0, 0, 0, 1]], dtype=torch.uint8)\n",
      "z:\n",
      " tensor([1, 1, 1, 1, 1], dtype=torch.uint8)\n",
      "C == 0:\n",
      " tensor([[0, 1, 0, 1, 0],\n",
      "        [1, 1, 0, 0, 0],\n",
      "        [0, 0, 0, 0, 1],\n",
      "        [0, 1, 1, 0, 0],\n",
      "        [0, 0, 0, 0, 1]], dtype=torch.uint8)\n",
      "A < 0:\n",
      " tensor([0, 0, 1, 1, 1], dtype=torch.uint8)\n",
      "res:\n",
      " tensor([[0, 0, 0, 1, 0],\n",
      "        [0, 0, 0, 0, 0],\n",
      "        [0, 0, 0, 0, 1],\n",
      "        [0, 0, 1, 0, 0],\n",
      "        [0, 0, 0, 0, 1]], dtype=torch.uint8)\n",
      "z:\n",
      " tensor([1, 0, 1, 1, 1], dtype=torch.uint8)\n",
      "C == 0:\n",
      " tensor([[0, 1, 0, 1, 0],\n",
      "        [1, 1, 0, 0, 0],\n",
      "        [0, 0, 0, 0, 1],\n",
      "        [0, 1, 1, 0, 0],\n",
      "        [0, 0, 0, 0, 1]], dtype=torch.uint8)\n",
      "A < 0:\n",
      " tensor([0, 0, 0, 1, 1], dtype=torch.uint8)\n",
      "res:\n",
      " tensor([[0, 0, 0, 1, 0],\n",
      "        [0, 0, 0, 0, 0],\n",
      "        [0, 0, 0, 0, 1],\n",
      "        [0, 0, 0, 0, 0],\n",
      "        [0, 0, 0, 0, 1]], dtype=torch.uint8)\n",
      "z:\n",
      " tensor([1, 0, 1, 0, 1], dtype=torch.uint8)\n",
      "C == 0:\n",
      " tensor([[0, 1, 0, 1, 0],\n",
      "        [1, 1, 0, 0, 0],\n",
      "        [0, 0, 0, 0, 1],\n",
      "        [0, 1, 1, 0, 0],\n",
      "        [0, 0, 0, 0, 1]], dtype=torch.uint8)\n",
      "A < 0:\n",
      " tensor([0, 0, 0, 0, 1], dtype=torch.uint8)\n",
      "res:\n",
      " tensor([[0, 0, 0, 0, 0],\n",
      "        [0, 0, 0, 0, 0],\n",
      "        [0, 0, 0, 0, 1],\n",
      "        [0, 0, 0, 0, 0],\n",
      "        [0, 0, 0, 0, 1]], dtype=torch.uint8)\n",
      "z:\n",
      " tensor([0, 0, 1, 0, 1], dtype=torch.uint8)\n",
      "C:\n",
      " tensor([[0.4460, 0.0000, 0.0409, 0.0000, 0.5521],\n",
      "        [0.0000, 0.0000, 0.2569, 0.1162, 0.4169],\n",
      "        [0.0338, 0.0499, 0.1817, 0.1536, 0.0000],\n",
      "        [0.1775, 0.0000, 0.0000, 0.1362, 0.1792],\n",
      "        [0.3061, 0.0778, 0.2742, 0.3928, 0.0000]])\n"
     ]
    }
   ],
   "source": [
    "hungarian(torch.rand((5,5)))"
   ]
  },
  {
   "cell_type": "code",
   "execution_count": 122,
   "metadata": {},
   "outputs": [
    {
     "name": "stdout",
     "output_type": "stream",
     "text": [
      "Number of permutations:  40320\n",
      "time: 6502.499 ms\n"
     ]
    }
   ],
   "source": [
    "N = 1\n",
    "k = 8\n",
    "\n",
    "perms_np = np.array(list(itertools.permutations(np.arange(k))))\n",
    "perms = torch.from_numpy(perms_np).long().to(device)\n",
    "\n",
    "prediction = torch.rand(N, k, 3).to(device)\n",
    "target = torch.rand(N, k, 3).to(device)\n",
    "\n",
    "start = time.time()\n",
    "\n",
    "print(\"Number of permutations: \", len(perms))\n",
    "\n",
    "target_perms = torch.zeros((N, len(perms), k, 3), device=device)\n",
    "for (i, p) in enumerate(perms):\n",
    "    target_perms[:,i] = target[:, p, :]\n",
    "    \n",
    "print (\"time: %.3f ms\" % ((time.time() - start) * 1000))"
   ]
  },
  {
   "cell_type": "code",
   "execution_count": 123,
   "metadata": {},
   "outputs": [
    {
     "name": "stdout",
     "output_type": "stream",
     "text": [
      "time: 39.500 ms\n"
     ]
    }
   ],
   "source": [
    "start = time.time()\n",
    "\n",
    "for i in range(100):\n",
    "    minperms = utils.matchPoints(prediction, target, perms=perms, y_perms=target_perms)\n",
    "\n",
    "print (\"time: %.3f ms\" % ((time.time() - start) * 1000))"
   ]
  },
  {
   "cell_type": "code",
   "execution_count": 139,
   "metadata": {},
   "outputs": [
    {
     "name": "stdout",
     "output_type": "stream",
     "text": [
      "time: 29.999 ms\n",
      "time: 44.999 ms\n",
      "time: 30.500 ms\n",
      "time: 45.499 ms\n",
      "time: 43.000 ms\n",
      "time: 78.499 ms\n",
      "time: 78.499 ms\n",
      "time: 123.999 ms\n",
      "time: 129.000 ms\n",
      "time: 165.002 ms\n",
      "time: 116.501 ms\n",
      "time: 169.999 ms\n",
      "time: 160.499 ms\n",
      "time: 139.999 ms\n",
      "time: 136.000 ms\n",
      "time: 268.499 ms\n",
      "time: 243.998 ms\n",
      "time: 239.999 ms\n",
      "time: 279.500 ms\n"
     ]
    }
   ],
   "source": [
    "K = 20\n",
    "\n",
    "T = np.zeros(K)\n",
    "\n",
    "for k in range(1,k):\n",
    "\n",
    "    N = 1\n",
    "    #k = 20\n",
    "\n",
    "    prediction = torch.rand(N, k, 3).to(device)\n",
    "    target = torch.rand(N, k, 3).to(device)\n",
    "\n",
    "    start = time.time()\n",
    "\n",
    "    for i in range(100):\n",
    "\n",
    "        for j in range(N):\n",
    "\n",
    "            g = prediction[j].cpu().numpy()\n",
    "            t = target[j].cpu().numpy()\n",
    "\n",
    "            D = sp.spatial.distance_matrix(g, t)\n",
    "            _, A_cols = sp.optimize.linear_sum_assignment(D)\n",
    "            \n",
    "    t = (time.time() - start) * 1000\n",
    "\n",
    "    print (\"time: %.3f ms\" % (t))\n",
    "    \n",
    "    T[k-1] = t"
   ]
  },
  {
   "cell_type": "code",
   "execution_count": 4,
   "metadata": {},
   "outputs": [
    {
     "data": {
      "image/png": "[encoded data removed]",
      "text/plain": [
       "<Figure size 1152x648 with 1 Axes>"
      ]
     },
     "metadata": {
      "needs_background": "light"
     },
     "output_type": "display_data"
    }
   ],
   "source": [
    "i = np.random.randint(prediction.shape[0])\n",
    "\n",
    "g = prediction[i].cpu().numpy()\n",
    "t = target[i].cpu().numpy()\n",
    "\n",
    "minperm = minperms[i].cpu().numpy()\n",
    "\n",
    "D = sp.spatial.distance_matrix(g, t)\n",
    "_, A_cols = sp.optimize.linear_sum_assignment(D)\n",
    "\n",
    "plt.figure(figsize=(16,9))\n",
    "plt.axis('equal')\n",
    "\n",
    "plt.plot([g[:, 0], t[A_cols, 0]],\n",
    "         [g[:, 1], t[A_cols, 1]],\n",
    "         color='orange', label='scipy')\n",
    "\n",
    "plt.plot([g[:, 0], t[minperm, 0]],\n",
    "         [g[:, 1], t[minperm, 1]],\n",
    "         color='green', linestyle='dashed', label='brute')\n",
    "    \n",
    "plt.scatter(g[:, 0], g[:, 1], color='blue', s=100)\n",
    "plt.scatter(t[:, 0], t[:, 1], color='red', s=100)\n",
    "    \n",
    "plt.legend()\n",
    "plt.show()"
   ]
  },
  {
   "cell_type": "code",
   "execution_count": null,
   "metadata": {},
   "outputs": [],
   "source": []
  }
 ],
 "metadata": {
  "kernelspec": {
   "display_name": "Python 3.6.2 64-bit",
   "language": "python",
   "name": "python36264bit0676f2f61ede4885a79bdf760204de6d"
  },
  "language_info": {
   "codemirror_mode": {
    "name": "ipython",
    "version": 3
   },
   "file_extension": ".py",
   "mimetype": "text/x-python",
   "name": "python",
   "nbconvert_exporter": "python",
   "pygments_lexer": "ipython3",
   "version": "3.6.2"
  }
 },
 "nbformat": 4,
 "nbformat_minor": 2
}
