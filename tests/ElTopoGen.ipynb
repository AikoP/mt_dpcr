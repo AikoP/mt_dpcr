{
 "cells": [
  {
   "cell_type": "code",
   "execution_count": 1,
   "metadata": {},
   "outputs": [],
   "source": [
    "import sys\n",
    "sys.path.insert(1, '../')  # to load from any submodule in the repo\n",
    "\n",
    "from utils.eltopo import *\n",
    "from utils.readOBJ import *\n",
    "from utils.writeOBJ import *\n",
    "import time"
   ]
  },
  {
   "cell_type": "code",
   "execution_count": 44,
   "metadata": {},
   "outputs": [],
   "source": [
    "nr = '03'"
   ]
  },
  {
   "cell_type": "code",
   "execution_count": 47,
   "metadata": {},
   "outputs": [],
   "source": [
    "V, F = readOBJ('D:\\\\Github\\\\Repos\\\\dpcr\\\\data\\\\simple_shapes\\\\base\\\\cuboid_' + str(nr) + '.obj')\n",
    "\n",
    "eltopo = ElTopoMesh(V,F)"
   ]
  },
  {
   "cell_type": "code",
   "execution_count": 48,
   "metadata": {},
   "outputs": [
    {
     "name": "stdout",
     "output_type": "stream",
     "text": [
      "eltopo time: 0.870002\n"
     ]
    }
   ],
   "source": [
    "newV = V\n",
    "\n",
    "t_eltopo = time.time()\n",
    "\n",
    "eltopo.update(newV)\n",
    "newV, newF = eltopo.getMesh()\n",
    "\n",
    "firstM = np.zeros(newV.shape)\n",
    "secondM = np.zeros(newV.shape)\n",
    "\n",
    "single_eltopo = time.time() - t_eltopo\n",
    "print('eltopo time: %f' % single_eltopo)\n",
    "\n",
    "writeOBJ('D:\\\\Github\\\\Repos\\\\dpcr\\\\data\\\\simple_shapes\\\\cuboid_' + str(nr) + '.obj', newV, newF)"
   ]
  },
  {
   "cell_type": "code",
   "execution_count": null,
   "metadata": {},
   "outputs": [],
   "source": []
  }
 ],
 "metadata": {
  "kernelspec": {
   "display_name": "Python 3.6.2 64-bit",
   "language": "python",
   "name": "python36264bit0676f2f61ede4885a79bdf760204de6d"
  },
  "language_info": {
   "codemirror_mode": {
    "name": "ipython",
    "version": 3
   },
   "file_extension": ".py",
   "mimetype": "text/x-python",
   "name": "python",
   "nbconvert_exporter": "python",
   "pygments_lexer": "ipython3",
   "version": "3.6.2"
  }
 },
 "nbformat": 4,
 "nbformat_minor": 2
}
