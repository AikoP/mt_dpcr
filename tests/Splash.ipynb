{
 "cells": [
  {
   "cell_type": "code",
   "execution_count": 1,
   "metadata": {},
   "outputs": [
    {
     "name": "stdout",
     "output_type": "stream",
     "text": [
      "Using GPU : 0 from 1 devices\n"
     ]
    }
   ],
   "source": [
    "import sys\n",
    "sys.path.insert(1, '../')  # to load from any submodule in the repo\n",
    "\n",
    "import utils.dpcr_utils as utils\n",
    "\n",
    "import numpy as np\n",
    "import scipy as sp\n",
    "import scipy.optimize\n",
    "import scipy.misc\n",
    "import matplotlib\n",
    "import matplotlib.pyplot as plt\n",
    "import scipy.spatial\n",
    "import time\n",
    "import itertools\n",
    "import torch\n",
    "import torch.nn.functional as F\n",
    "\n",
    "device = torch.device(\"cuda\")\n",
    "\n",
    "print('Using GPU : ' + str(torch.cuda.current_device()) + ' from ' + str(torch.cuda.device_count()) + ' devices')"
   ]
  },
  {
   "cell_type": "code",
   "execution_count": 121,
   "metadata": {},
   "outputs": [],
   "source": [
    "\n",
    "def mish(x, b):\n",
    "    return torch.tanh(x-b) * torch.sqrt(F.softplus(x-b))\n",
    "    \n",
    "def resu(x, b):\n",
    "    return torch.tanh(x-b)*torch.sqrt(torch.square(x-b))\n",
    "\n",
    "def sop(x,b):\n",
    "    return F.softplus(x-b) - torch.log(torch.tensor([2.0]))\n",
    "    \n",
    "class Splash():\n",
    "    \n",
    "\n",
    "    def __init__(self, S = 4, init_shape='ReLU', ):\n",
    "        super(Splash,self).__init__()\n",
    "\n",
    "        self.S = S\n",
    "        self.b = torch.linspace(0, 3, steps=S)\n",
    "        \n",
    "        self.a_pos = torch.nn.Parameter(torch.zeros(S))\n",
    "        self.a_pos[0] = 1\n",
    "        self.a_neg = torch.nn.Parameter(torch.zeros(S))\n",
    "        self.a_neg[0] = -0.07\n",
    "        \n",
    "        #self.a_pos = torch.nn.Parameter(torch.randn(S))\n",
    "        #self.a_neg = torch.nn.Parameter(torch.randn(S))\n",
    "        \n",
    "        \n",
    "    def forward(self, x):\n",
    "        \n",
    "        b = torch.ones(x.size()).unsqueeze(-1) * self.b\n",
    "        x_ex = x.unsqueeze(-1).repeat_interleave(self.S, dim=-1)\n",
    "        \n",
    "        z = torch.zeros(b.size())\n",
    "\n",
    "        \n",
    "        #h = torch.sum(torch.max(x_ex-b,z) * self.a_pos + torch.max(-x_ex-b,z) * self.a_neg, dim=1)\n",
    "        #h = torch.sum((torch.log(torch.exp(x_ex-b)+1)) * self.a_pos + (torch.log(torch.exp(-x_ex-b)+1)) * self.a_neg, dim=1)\n",
    "        #h= torch.sum(mish(x_ex,b) * self.a_pos + mish(-x_ex,b) * self.a_neg, dim=1)\n",
    "        h = torch.sum(torch.max(resu(x_ex, b),z) * self.a_pos + torch.max(resu(-x_ex, b),z) * self.a_neg, dim=1)\n",
    "        #h = torch.sum(torch.log(torch.exp(x_ex-b) + 1) * self.a_pos + torch.log(torch.exp(-x_ex-b) + 1) * self.a_neg, dim=1)\n",
    "        #h = torch.sum(sop(x_ex, b) * self.a_pos + sop(-x_ex, b) * self.a_neg, dim=1)\n",
    "        \n",
    "        return h\n",
    "        \n",
    "        "
   ]
  },
  {
   "cell_type": "code",
   "execution_count": 122,
   "metadata": {},
   "outputs": [
    {
     "data": {
      "image/png": "[encoded data removed]",
      "text/plain": [
       "<Figure size 432x288 with 1 Axes>"
      ]
     },
     "metadata": {
      "needs_background": "light"
     },
     "output_type": "display_data"
    }
   ],
   "source": [
    "splash = Splash(S = 10)\n",
    "\n",
    "x = torch.randn(100)\n",
    "x_base = torch.linspace(-4, 4, 100)\n",
    "\n",
    "x_numpy = x.cpu().detach().numpy()\n",
    "x_base_numpy = x_base.cpu().detach().numpy()\n",
    "f_numpy = splash.forward(x_base).cpu().detach().numpy()\n",
    "\n",
    "plt.plot(x_base,f_numpy)\n",
    "\n",
    "plt.axvline(x=0, color='black')\n",
    "plt.axhline(y=0, color='black')\n",
    "plt.axvline(x=-3, color='red')\n",
    "plt.axvline(x=3, color='red')\n",
    "\n",
    "for i in range(x.size(0)):\n",
    "    plt.axvline(x=x[i], color='orange', alpha=0.1)"
   ]
  },
  {
   "cell_type": "code",
   "execution_count": null,
   "metadata": {},
   "outputs": [],
   "source": []
  },
  {
   "cell_type": "code",
   "execution_count": null,
   "metadata": {},
   "outputs": [],
   "source": []
  }
 ],
 "metadata": {
  "kernelspec": {
   "display_name": "Python 3.6.2 64-bit",
   "language": "python",
   "name": "python36264bit0676f2f61ede4885a79bdf760204de6d"
  },
  "language_info": {
   "codemirror_mode": {
    "name": "ipython",
    "version": 3
   },
   "file_extension": ".py",
   "mimetype": "text/x-python",
   "name": "python",
   "nbconvert_exporter": "python",
   "pygments_lexer": "ipython3",
   "version": "3.6.2"
  }
 },
 "nbformat": 4,
 "nbformat_minor": 2
}
